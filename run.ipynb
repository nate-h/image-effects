{
 "cells": [
  {
   "attachments": {},
   "cell_type": "markdown",
   "id": "d4f0786a",
   "metadata": {},
   "source": [
    "# Image Effects\n",
    "\n",
    "My attempt at recreating trivial photoshop effects + some custom visualizations I find cool."
   ]
  },
  {
   "attachments": {},
   "cell_type": "markdown",
   "id": "4f62dedb",
   "metadata": {},
   "source": [
    "## Imports\n",
    "\n",
    "Let's get these out of the way."
   ]
  },
  {
   "cell_type": "code",
   "execution_count": null,
   "id": "2e0e7ae5",
   "metadata": {},
   "outputs": [],
   "source": [
    "%load_ext autoreload\n",
    "%autoreload 2\n",
    "\n",
    "from PIL import Image\n",
    "import numpy as np\n",
    "from matplotlib import pyplot as plt\n",
    "import os\n",
    "from scipy.ndimage import gaussian_filter\n",
    "from src.utils import load_rgb, save_gray, adjust_exponential, plot\n",
    "import cv2\n",
    "from sklearn.cluster import KMeans"
   ]
  },
  {
   "attachments": {},
   "cell_type": "markdown",
   "id": "8b3eee5b",
   "metadata": {},
   "source": [
    "## Grayscale\n",
    "\n",
    "One might think grayscale is as easy as averaging the rgb channels but our eyes\n",
    "perceive things differently. Thus a better way to grayscale is to use non-linear\n",
    "weights when combining the rgb channels.\n",
    "\n",
    "More here: https://en.wikipedia.org/wiki/Grayscale"
   ]
  },
  {
   "cell_type": "code",
   "execution_count": null,
   "id": "38b21adb",
   "metadata": {},
   "outputs": [],
   "source": [
    "rgb = load_rgb(\"img/lenna.png\")\n",
    "gray = np.dot(rgb[...,:3], [0.299, 0.587, 0.114])\n",
    "plot(1, 2, (\"Original\", rgb), (\"Gray\", gray))"
   ]
  },
  {
   "attachments": {},
   "cell_type": "markdown",
   "id": "3c390359",
   "metadata": {},
   "source": [
    "## Hue shifting\n",
    "\n",
    "Load image as hsv then shift all colors using a simple offset"
   ]
  },
  {
   "cell_type": "code",
   "execution_count": null,
   "id": "4a424d9f",
   "metadata": {},
   "outputs": [],
   "source": [
    "# Load colorful image.\n",
    "rgb = load_rgb('img/food.jpg')\n",
    "hsv = cv2.cvtColor(rgb, cv2.COLOR_RGB2HSV)\n",
    "\n",
    "# Created shifted image.\n",
    "hue = hsv[..., 0]\n",
    "shift = 90\n",
    "shifted_hue = (hue + shift) % 180\n",
    "hsv[:, :, 0] = shifted_hue\n",
    "shifted_rgb = cv2.cvtColor(hsv, cv2.COLOR_HSV2RGB)\n",
    "\n",
    "# Plot comparison.\n",
    "plot(1, 2, (\"Original\", rgb), (\"Shifted Hue\", shifted_rgb))"
   ]
  },
  {
   "attachments": {},
   "cell_type": "markdown",
   "id": "ac7c4783",
   "metadata": {},
   "source": [
    "## Modeling macos dynamic backgrounds\n",
    "\n",
    "Use gamma correction to emulate macos dynamic backgrounds."
   ]
  },
  {
   "cell_type": "code",
   "execution_count": null,
   "id": "9aef4c26",
   "metadata": {},
   "outputs": [],
   "source": [
    "rgb = load_rgb(\"img/beach.jpg\")\n",
    "gammas = [1.3, 1, 0.7, 0.4]\n",
    "\n",
    "divides = np.linspace(0, rgb.shape[1], 5).astype(int)\n",
    "for start, stop, gamma in zip(divides, divides[1:], gammas):\n",
    "    rgb[:,start:stop, :] = adjust_exponential(rgb[:,start:stop, :], gamma)\n",
    "\n",
    "plot(1, 1, (\"Modeling macos dynamic backgrounds\", rgb))"
   ]
  },
  {
   "attachments": {},
   "cell_type": "markdown",
   "id": "18c23543",
   "metadata": {},
   "source": [
    "## Shifting saturation\n",
    "\n",
    "Description: Same concept as previous demo but messing with saturation instead of gamma"
   ]
  },
  {
   "cell_type": "code",
   "execution_count": null,
   "id": "04bd7232",
   "metadata": {},
   "outputs": [],
   "source": [
    "rgb = load_rgb(\"img/beach.jpg\")\n",
    "hsv_exp = cv2.cvtColor(rgb, cv2.COLOR_RGB2HSV)\n",
    "hsv_lin = cv2.cvtColor(rgb, cv2.COLOR_RGB2HSV)\n",
    "\n",
    "saturations = [0.4, 0.7, 1, 1.3]\n",
    "divides = np.linspace(0, hsv_exp.shape[1], len(saturations) + 1).astype(int)\n",
    "\n",
    "for start, stop, saturation in zip(divides, divides[1:], saturations):\n",
    "    hsv_lin[:,start:stop, 1] = hsv_lin[:,start:stop, 1] * saturation\n",
    "    hsv_exp[:,start:stop, 1] = adjust_exponential(hsv_exp[:,start:stop, 1], saturation)\n",
    "\n",
    "# Display.\n",
    "plot(1, 3,\n",
    "    (\"rgb\", rgb),\n",
    "    (\"Linear\", cv2.cvtColor(hsv_lin, cv2.COLOR_HSV2RGB)),\n",
    "    (\"Exponential\", cv2.cvtColor(hsv_exp, cv2.COLOR_HSV2RGB)),\n",
    "    figsize=(10, 10)\n",
    ")"
   ]
  },
  {
   "attachments": {},
   "cell_type": "markdown",
   "id": "5f20dd37",
   "metadata": {},
   "source": [
    "## Color quantization + pixelation\n",
    "\n",
    "Use color quantization + pixelation to convert new mario photo into old 1980s version"
   ]
  },
  {
   "cell_type": "code",
   "execution_count": null,
   "id": "243f42b8",
   "metadata": {},
   "outputs": [],
   "source": [
    "# Load image.\n",
    "rgb = load_rgb('img/mario.png')\n",
    "\n",
    "# Create pixelated image.\n",
    "orig_h, orig_w = rgb.shape[:2]\n",
    "pixel_w, pixel_h = (25, 38)\n",
    "down_sampled = cv2.resize(rgb, (pixel_w, pixel_h), interpolation=cv2.INTER_LINEAR)\n",
    "pixelated = cv2.resize(down_sampled, (orig_w, orig_h), interpolation=cv2.INTER_NEAREST)\n",
    "\n",
    "# Quantize the pixelated image.\n",
    "n_colors = 7\n",
    "arr = pixelated.reshape((-1, 3))\n",
    "kmeans = KMeans(n_clusters=n_colors, n_init=\"auto\").fit(arr)\n",
    "labels = kmeans.labels_\n",
    "centers = kmeans.cluster_centers_\n",
    "quantized_pixelated = centers[labels].reshape(pixelated.shape).astype('uint8')\n",
    "\n",
    "# Show original, pixelated, quantized_pixelated.\n",
    "plot(1, 3,\n",
    "    (\"Original\", rgb),\n",
    "    (\"Pixelated\", pixelated),\n",
    "    (\"Quantized+Pixelation\", quantized_pixelated),\n",
    ")"
   ]
  },
  {
   "cell_type": "code",
   "execution_count": null,
   "id": "83997570",
   "metadata": {},
   "outputs": [],
   "source": []
  },
  {
   "cell_type": "code",
   "execution_count": null,
   "id": "1ee51bab",
   "metadata": {},
   "outputs": [],
   "source": []
  },
  {
   "cell_type": "code",
   "execution_count": null,
   "id": "d6180887",
   "metadata": {},
   "outputs": [],
   "source": []
  },
  {
   "attachments": {},
   "cell_type": "markdown",
   "id": "d492b7d9",
   "metadata": {},
   "source": [
    "---"
   ]
  },
  {
   "cell_type": "code",
   "execution_count": null,
   "id": "01c17d6b",
   "metadata": {},
   "outputs": [],
   "source": [
    "blur_garr = gaussian_filter(rgb, sigma=3)\n",
    "plt.imshow(blur_garr)"
   ]
  },
  {
   "cell_type": "markdown",
   "id": "3e8f1ebb",
   "metadata": {},
   "source": []
  }
 ],
 "metadata": {
  "kernelspec": {
   "display_name": "image-effects",
   "language": "python",
   "name": "image-effects"
  },
  "language_info": {
   "codemirror_mode": {
    "name": "ipython",
    "version": 3
   },
   "file_extension": ".py",
   "mimetype": "text/x-python",
   "name": "python",
   "nbconvert_exporter": "python",
   "pygments_lexer": "ipython3",
   "version": "3.11.1"
  },
  "vscode": {
   "interpreter": {
    "hash": "31f2aee4e71d21fbe5cf8b01ff0e069b9275f58929596ceb00d14d90e3e16cd6"
   }
  }
 },
 "nbformat": 4,
 "nbformat_minor": 5
}
