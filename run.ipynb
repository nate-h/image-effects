{
 "cells": [
  {
   "cell_type": "markdown",
   "id": "d4f0786a",
   "metadata": {},
   "source": [
    "# Lines\n",
    "\n",
    "This program creates an image using a bunch of lines and some randomness"
   ]
  },
  {
   "cell_type": "code",
   "execution_count": null,
   "id": "2e0e7ae5",
   "metadata": {},
   "outputs": [],
   "source": [
    "from PIL import Image\n",
    "import numpy as np\n",
    "from matplotlib import pyplot as plt\n",
    "import os\n",
    "from scipy.ndimage import gaussian_filter\n",
    "from src.utils import save_gray\n",
    "import cv2"
   ]
  },
  {
   "attachments": {},
   "cell_type": "markdown",
   "id": "3c390359",
   "metadata": {},
   "source": [
    "## Hue shifting\n",
    "\n",
    "Load image as hsv then shift all colors using a simple offset"
   ]
  },
  {
   "cell_type": "code",
   "execution_count": null,
   "id": "4a424d9f",
   "metadata": {},
   "outputs": [],
   "source": [
    "# Load colorful image.\n",
    "bgr = cv2.imread('img/food.jpg')\n",
    "hsv = cv2.cvtColor(bgr, cv2.COLOR_BGR2HSV)\n",
    "rgb = cv2.cvtColor(bgr, cv2.COLOR_BGR2RGB)\n",
    "\n",
    "# Created shifted image.\n",
    "hue = hsv[..., 0]\n",
    "shift = 90\n",
    "shifted_hue = (hue + shift) % 180\n",
    "hsv[:, :, 0] = shifted_hue\n",
    "shifted_rgb = cv2.cvtColor(hsv, cv2.COLOR_HSV2RGB)\n",
    "\n",
    "# Plot comparison.\n",
    "fig = plt.figure()\n",
    "fig.suptitle(\"Hue shifting\")\n",
    "plt.subplot(1, 2, 1)\n",
    "plt.imshow(rgb)\n",
    "plt.subplot(1, 2, 2)\n",
    "plt.imshow(shifted_rgb)"
   ]
  },
  {
   "cell_type": "code",
   "execution_count": null,
   "id": "ac7c4783",
   "metadata": {},
   "outputs": [],
   "source": []
  },
  {
   "cell_type": "code",
   "execution_count": null,
   "id": "9aef4c26",
   "metadata": {},
   "outputs": [],
   "source": []
  },
  {
   "cell_type": "code",
   "execution_count": null,
   "id": "d492b7d9",
   "metadata": {},
   "outputs": [],
   "source": []
  },
  {
   "cell_type": "code",
   "execution_count": null,
   "id": "3b60e5da",
   "metadata": {},
   "outputs": [],
   "source": [
    "# load the image\n",
    "image = Image.open('img/sculpture.jpeg')\n",
    "arr = np.asarray(image)\n",
    "plt.imshow(arr)"
   ]
  },
  {
   "cell_type": "code",
   "execution_count": null,
   "id": "180a6fa4",
   "metadata": {},
   "outputs": [],
   "source": [
    "# Grayscale image.\n",
    "# Basically: gray = 0.2989 * r + 0.5870 * g + 0.1140 * b\n",
    "\n",
    "garr = np.dot(arr[...,:3], [0.299, 0.587, 0.114])\n",
    "save_gray(garr, \"sculpture.gray.jpeg\")\n",
    "plt.imshow(garr)"
   ]
  },
  {
   "cell_type": "code",
   "execution_count": null,
   "id": "01c17d6b",
   "metadata": {},
   "outputs": [],
   "source": [
    "blur_garr = gaussian_filter(garr, sigma=3)\n",
    "plt.imshow(blur_garr)"
   ]
  },
  {
   "cell_type": "code",
   "execution_count": null,
   "id": "6726405c",
   "metadata": {},
   "outputs": [],
   "source": [
    "import numpy\n",
    "import cairo\n",
    "import math\n",
    "data = numpy.zeros((200, 200, 4), dtype=numpy.uint8)\n",
    "surface = cairo.ImageSurface.create_for_data(\n",
    "    data, cairo.FORMAT_ARGB32, 200, 200)\n",
    "cr = cairo.Context(surface)\n",
    "\n",
    "# fill with solid white\n",
    "cr.set_source_rgb(1.0, 1.0, 1.0)\n",
    "cr.paint()\n",
    "\n",
    "# draw red circle\n",
    "cr.arc(100, 100, 80, 0, 2*math.pi)\n",
    "cr.set_line_width(3)\n",
    "cr.set_source_rgb(1.0, 0.0, 0.0)\n",
    "cr.stroke()\n",
    "\n",
    "# write output\n",
    "print(data[38:48, 38:48, 0])\n",
    "surface.write_to_png(\"circle.png\")\n",
    "data.shape"
   ]
  },
  {
   "cell_type": "code",
   "execution_count": null,
   "id": "bd486983",
   "metadata": {},
   "outputs": [],
   "source": []
  }
 ],
 "metadata": {
  "kernelspec": {
   "display_name": "lines",
   "language": "python",
   "name": "python3"
  },
  "language_info": {
   "codemirror_mode": {
    "name": "ipython",
    "version": 3
   },
   "file_extension": ".py",
   "mimetype": "text/x-python",
   "name": "python",
   "nbconvert_exporter": "python",
   "pygments_lexer": "ipython3",
   "version": "3.11.1"
  },
  "vscode": {
   "interpreter": {
    "hash": "f79179a3ffd7fca5786d4b4d8d12249fcb8fac47fa7173b0640dcf4ec182b658"
   }
  }
 },
 "nbformat": 4,
 "nbformat_minor": 5
}
